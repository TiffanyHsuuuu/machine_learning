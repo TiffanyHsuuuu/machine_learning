{
 "cells": [
  {
   "cell_type": "code",
   "execution_count": 1,
   "metadata": {},
   "outputs": [],
   "source": [
    "# Import libraries\n",
    "import requests\n",
    "from bs4 import BeautifulSoup\n",
    "import re\n",
    "import csv"
   ]
  },
  {
   "cell_type": "code",
   "execution_count": 2,
   "metadata": {},
   "outputs": [
    {
     "ename": "NameError",
     "evalue": "name 'page_spider' is not defined",
     "output_type": "error",
     "traceback": [
      "\u001b[0;31m---------------------------------------------------------------------------\u001b[0m",
      "\u001b[0;31mNameError\u001b[0m                                 Traceback (most recent call last)",
      "\u001b[0;32m<ipython-input-2-923b6dc7d8d2>\u001b[0m in \u001b[0;36m<module>\u001b[0;34m\u001b[0m\n\u001b[1;32m      9\u001b[0m \u001b[0mheader\u001b[0m \u001b[0;34m=\u001b[0m \u001b[0;34m[\u001b[0m\u001b[0;34m\"type_of_house\"\u001b[0m\u001b[0;34m,\u001b[0m \u001b[0;34m\"living_space\"\u001b[0m\u001b[0;34m,\u001b[0m \u001b[0;34m\"number_of_rooms\"\u001b[0m\u001b[0;34m,\u001b[0m \u001b[0;34m\"rent\"\u001b[0m\u001b[0;34m,\u001b[0m \u001b[0;34m\"construction_year\"\u001b[0m\u001b[0;34m,\u001b[0m \u001b[0;34m\"street\"\u001b[0m\u001b[0;34m,\u001b[0m \u001b[0;34m\"zipcode\"\u001b[0m\u001b[0;34m,\u001b[0m \u001b[0;34m\"region\"\u001b[0m\u001b[0;34m,\u001b[0m \u001b[0;34m\"tag\"\u001b[0m\u001b[0;34m]\u001b[0m\u001b[0;34m\u001b[0m\u001b[0;34m\u001b[0m\u001b[0m\n\u001b[1;32m     10\u001b[0m \u001b[0mresult\u001b[0m\u001b[0;34m.\u001b[0m\u001b[0mappend\u001b[0m\u001b[0;34m(\u001b[0m\u001b[0mheader\u001b[0m\u001b[0;34m)\u001b[0m\u001b[0;34m\u001b[0m\u001b[0;34m\u001b[0m\u001b[0m\n\u001b[0;32m---> 11\u001b[0;31m \u001b[0mpage_spider\u001b[0m\u001b[0;34m(\u001b[0m\u001b[0;34m)\u001b[0m\u001b[0;34m\u001b[0m\u001b[0;34m\u001b[0m\u001b[0m\n\u001b[0m\u001b[1;32m     12\u001b[0m \u001b[0;34m\u001b[0m\u001b[0m\n\u001b[1;32m     13\u001b[0m \u001b[0;32mdef\u001b[0m \u001b[0mpage_spider\u001b[0m\u001b[0;34m(\u001b[0m\u001b[0;34m)\u001b[0m\u001b[0;34m:\u001b[0m\u001b[0;34m\u001b[0m\u001b[0;34m\u001b[0m\u001b[0m\n",
      "\u001b[0;31mNameError\u001b[0m: name 'page_spider' is not defined"
     ]
    }
   ],
   "source": [
    "# Collect first page of list\n",
    "# list_of_pages = requests.get(\"https://www.immobilienscout24.de/Suche/S-T/Wohnung-Miete/Fahrzeitsuche/Frankfurt_20am_20Main/-/-95993/2244895/-/1276007004/60?enteredFrom=result_list\")\n",
    "\n",
    "# Create a BeautifulSoup object\n",
    "# soup_for_list = BeautifulSoup(list_of_pages.text, 'html.parser')\n",
    "\n",
    "lst = []\n",
    "result = []\n",
    "header = [\"type_of_house\", \"living_space\", \"number_of_rooms\", \"rent\", \"construction_year\", \"street\", \"zipcode\", \"region\", \"tag\"]\n",
    "result.append(header)\n",
    "\n",
    "def page_spider():\n",
    "    for i in range(0, 143):\n",
    "        link = \"https://www.immobilienscout24.de/Suche/S-\"\n",
    "        link += str(i)\n",
    "        link += \"/Wohnung-Miete/Fahrzeitsuche/Frankfurt_20am_20Main/-/-95993/2244895/-/1276007004/60?enteredFrom=result_list\"\n",
    "        page = requests.get(link)\n",
    "        soup_for_list = BeautifulSoup(page.text, 'html.parser')\n",
    "        list_spider(soup_for_list)\n",
    "\n",
    "def list_spider(soup_for_list):\n",
    "    for paragraph in soup_for_list.find_all('a'):\n",
    "        if '/expose/' in str(paragraph.get(\"href\")):\n",
    "            lst.append(paragraph.get('href'))\n",
    "\n",
    "    lst = list(set(lst))\n",
    "\n",
    "    for item in lst:\n",
    "        page = requests.get(\"https://www.immobilienscout24.de\"+item)\n",
    "        soup = BeautifulSoup(page.text, 'html.parser')\n",
    "\n",
    "        try:\n",
    "            type_of_house = soup.find(class_= 'is24qa-typ grid-item three-fifths').text.strip()\n",
    "        except:\n",
    "            type_of_house = ''\n",
    "        try:\n",
    "            living_space = soup.find(class_='is24qa-wohnflaeche-ca').text.strip()\n",
    "        except:\n",
    "            living_space = ''\n",
    "        try:\n",
    "            number_of_rooms = int(soup.find(class_='is24qa-zimmer grid-item three-fifths').text.strip())\n",
    "        except:\n",
    "            number_of_rooms = ''\n",
    "        try:\n",
    "            rent = soup.find(class_='is24qa-gesamtmiete').text.strip()\n",
    "        except:\n",
    "            rent = ''\n",
    "        try:\n",
    "            construction_year = soup.find(class_='is24qa-baujahr').text.strip()\n",
    "        except:\n",
    "            construction_year = ''\n",
    "        try:\n",
    "            street = soup.find(class_='block font-nowrap print-hide').text.strip().rstrip(',')\n",
    "        except:\n",
    "            street = ''\n",
    "        try:\n",
    "            zip_region = soup.find(class_='zip-region-and-country').text.strip()\n",
    "            zipcode = re.sub('[^\\d]+', '', zip_and_region).strip()\n",
    "            region = re.sub('[\\d]+', '', zip_and_region).strip()\n",
    "        except:\n",
    "            zipcode = ''\n",
    "            region = ''\n",
    "\n",
    "        living_space = int(re.sub('[^\\d,]+','',living_space).split(\",\")[0])\n",
    "        rent = int(re.sub('[^\\d,]+', '', rent).split(\",\")[0])\n",
    "\n",
    "        new_list = [type_of_house, living_space, number_of_rooms, rent, construction_year, street, zipcode, region, item]\n",
    "        result.append(new_list)\n",
    "\n",
    "    with open(\"data.csv\", \"w\", newline=\"\") as f:\n",
    "        writer = csv.writer(f)\n",
    "        writer = writer.writerows(result)\n",
    "\n",
    "page_spider()"
   ]
  },
  {
   "cell_type": "code",
   "execution_count": null,
   "metadata": {},
   "outputs": [],
   "source": [
    "# Collect first page of list\n",
    "#page = requests.get(\"https://www.immobilienscout24.de/expose/113983317?referrer=RESULT_LIST_LISTING&navigationServiceUrl=%2FSuche%2Fcontroller%2FexposeNavigation%2Fnavigate.go%3FsearchUrl%3D%2FSuche%2FS-T%2FP-2%2FWohnung-Miete%2FPolygonsuche%2FfXBfb0hpfmdzQGBKfWxFa0d8XTthYH5vSHdpYnRAZ0JhV112STt9Z3xwSHN9aXJAeGJIY1BwckdveUNuZElfd1hwekBxclRkS2V2QGVBb3dAbERjRHFEckFqQGFPcUN3b1R5ZkZtZ1VvZUVjelJvZkZ3ZkZnekRje0BxcEtqb0ZrX0VifkVhd0dgYWFAc3hDeHNecGRFcm1UanBAfH5JZHZGeGlL%26exposeId%3D113983317&navigationHasPrev=true&navigationHasNext=true&navigationBarType=RESULT_LIST&searchId=9d2c1f2c-8180-306b-909e-f64d08fce6ae&searchType=drawn_area#/\")"
   ]
  },
  {
   "cell_type": "code",
   "execution_count": null,
   "metadata": {},
   "outputs": [],
   "source": [
    "# Create a BeautifulSoup object\n",
    "#soup = BeautifulSoup(page.text, 'html.parser')"
   ]
  },
  {
   "cell_type": "code",
   "execution_count": null,
   "metadata": {},
   "outputs": [],
   "source": []
  }
 ],
 "metadata": {
  "kernelspec": {
   "display_name": "Python 3",
   "language": "python",
   "name": "python3"
  },
  "language_info": {
   "codemirror_mode": {
    "name": "ipython",
    "version": 3
   },
   "file_extension": ".py",
   "mimetype": "text/x-python",
   "name": "python",
   "nbconvert_exporter": "python",
   "pygments_lexer": "ipython3",
   "version": "3.7.3"
  }
 },
 "nbformat": 4,
 "nbformat_minor": 2
}
