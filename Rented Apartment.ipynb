{
 "cells": [
  {
   "cell_type": "code",
   "execution_count": 1,
   "metadata": {},
   "outputs": [],
   "source": [
    "# Import libraries\n",
    "import requests\n",
    "from bs4 import BeautifulSoup\n",
    "import re"
   ]
  },
  {
   "cell_type": "code",
   "execution_count": 18,
   "metadata": {},
   "outputs": [],
   "source": [
    "# Collect first page of list\n",
    "page = requests.get(\"https://www.immobilienscout24.de/expose/113983317?referrer=RESULT_LIST_LISTING&navigationServiceUrl=%2FSuche%2Fcontroller%2FexposeNavigation%2Fnavigate.go%3FsearchUrl%3D%2FSuche%2FS-T%2FP-2%2FWohnung-Miete%2FPolygonsuche%2FfXBfb0hpfmdzQGBKfWxFa0d8XTthYH5vSHdpYnRAZ0JhV112STt9Z3xwSHN9aXJAeGJIY1BwckdveUNuZElfd1hwekBxclRkS2V2QGVBb3dAbERjRHFEckFqQGFPcUN3b1R5ZkZtZ1VvZUVjelJvZkZ3ZkZnekRje0BxcEtqb0ZrX0VifkVhd0dgYWFAc3hDeHNecGRFcm1UanBAfH5JZHZGeGlL%26exposeId%3D113983317&navigationHasPrev=true&navigationHasNext=true&navigationBarType=RESULT_LIST&searchId=9d2c1f2c-8180-306b-909e-f64d08fce6ae&searchType=drawn_area#/\")"
   ]
  },
  {
   "cell_type": "code",
   "execution_count": 19,
   "metadata": {},
   "outputs": [],
   "source": [
    "# Create a BeautifulSoup object\n",
    "soup = BeautifulSoup(page.text, 'html.parser')"
   ]
  },
  {
   "cell_type": "code",
   "execution_count": 35,
   "metadata": {},
   "outputs": [
    {
     "name": "stdout",
     "output_type": "stream",
     "text": [
      "Etagenwohnung\n",
      "103\n",
      "4\n",
      "1495\n",
      "2019\n",
      "Berlinerstr. 39,\n",
      "61449 Steinbach\n"
     ]
    }
   ],
   "source": [
    "# Pull all text from the BodyText div\n",
    "type_of_house = soup.find(class_= 'is24qa-typ grid-item three-fifths').text.strip()\n",
    "living_space = soup.find(class_='is24qa-wohnflaeche-ca').text.strip()\n",
    "number_of_rooms = soup.find(class_='is24qa-zimmer grid-item three-fifths').text.strip()\n",
    "rent = soup.find(class_='is24qa-gesamtmiete').text.strip()\n",
    "construction_year = soup.find(class_='is24qa-baujahr').text.strip()\n",
    "street = soup.find(class_='block font-nowrap print-hide').text.strip()\n",
    "zip_region = soup.find(class_='zip-region-and-country').text.strip()\n",
    "\n",
    "living_space = int(re.sub('[^\\d,]+','',living_space).split(\",\")[0])\n",
    "rent = int(re.sub('[^\\d,]+', '', rent).split(\",\")[0])\n",
    " \n",
    "print(type_of_house)\n",
    "print(living_space)\n",
    "print(number_of_rooms)\n",
    "print(rent)\n",
    "print(construction_year)\n",
    "print(street)\n",
    "print(zip_region)\n"
   ]
  },
  {
   "cell_type": "code",
   "execution_count": null,
   "metadata": {},
   "outputs": [],
   "source": []
  }
 ],
 "metadata": {
  "kernelspec": {
   "display_name": "Python 3",
   "language": "python",
   "name": "python3"
  },
  "language_info": {
   "codemirror_mode": {
    "name": "ipython",
    "version": 3
   },
   "file_extension": ".py",
   "mimetype": "text/x-python",
   "name": "python",
   "nbconvert_exporter": "python",
   "pygments_lexer": "ipython3",
   "version": "3.7.3"
  }
 },
 "nbformat": 4,
 "nbformat_minor": 2
}
